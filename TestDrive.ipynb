{
 "cells": [
  {
   "cell_type": "code",
   "execution_count": 1,
   "id": "e597878d-0092-48c9-9b0f-68e3bdd4bf04",
   "metadata": {
    "editable": true,
    "slideshow": {
     "slide_type": ""
    },
    "tags": []
   },
   "outputs": [
    {
     "name": "stdout",
     "output_type": "stream",
     "text": [
      "Hello Jupyter!!\n"
     ]
    }
   ],
   "source": [
    "print(\"Hello Jupyter!!\")"
   ]
  },
  {
   "cell_type": "code",
   "execution_count": 3,
   "id": "c97c0324-06b5-4d46-9ffe-39b21258593b",
   "metadata": {},
   "outputs": [
    {
     "name": "stdout",
     "output_type": "stream",
     "text": [
      "False\n"
     ]
    }
   ],
   "source": [
    "x=7\n",
    "y=21\n",
    "z=48\n",
    "\n",
    "print(Z<(x *x))"
   ]
  },
  {
   "cell_type": "code",
   "execution_count": 10,
   "id": "d7498e84-5707-4b30-a82f-d30027ee4b7c",
   "metadata": {},
   "outputs": [
    {
     "name": "stdout",
     "output_type": "stream",
     "text": [
      "Hello, class!! I'm Kareem and I am new to Jupyter\n"
     ]
    }
   ],
   "source": [
    "name = \"Kareem\"\n",
    "subject = \"Jupyter\"\n",
    "\n",
    "print(f\"Hello, class!! I'm {name} and I am new to {subject}\")"
   ]
  },
  {
   "cell_type": "code",
   "execution_count": 14,
   "id": "5e938b3b-4786-4bb2-ade0-ac857650516d",
   "metadata": {},
   "outputs": [
    {
     "name": "stdout",
     "output_type": "stream",
     "text": [
      "{25}\n"
     ]
    }
   ],
   "source": [
    "m=3\n",
    "x=7\n",
    "b=4\n",
    "mx= m * x\n",
    "y=mx+b\n",
    "\n",
    "print({y})"
   ]
  },
  {
   "cell_type": "code",
   "execution_count": null,
   "id": "73eb5076-718c-4724-a64f-bf42bfff9824",
   "metadata": {},
   "outputs": [],
   "source": []
  }
 ],
 "metadata": {
  "kernelspec": {
   "display_name": "Python 3 (ipykernel)",
   "language": "python",
   "name": "python3"
  },
  "language_info": {
   "codemirror_mode": {
    "name": "ipython",
    "version": 3
   },
   "file_extension": ".py",
   "mimetype": "text/x-python",
   "name": "python",
   "nbconvert_exporter": "python",
   "pygments_lexer": "ipython3",
   "version": "3.12.1"
  }
 },
 "nbformat": 4,
 "nbformat_minor": 5
}
